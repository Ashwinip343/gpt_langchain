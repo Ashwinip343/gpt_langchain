{
 "cells": [
  {
   "cell_type": "code",
   "execution_count": 1,
   "metadata": {},
   "outputs": [],
   "source": [
    "from langchain.chains import LLMChain\n",
    "from langchain.llms import OpenAI\n",
    "from langchain.prompts import PromptTemplate"
   ]
  },
  {
   "cell_type": "code",
   "execution_count": 14,
   "metadata": {},
   "outputs": [],
   "source": [
    "import os\n",
    "llm =OpenAI(openai_api_key= os.environ['OPENAI_API_KEY'],temperature=1,max_tokens=3500)"
   ]
  },
  {
   "cell_type": "code",
   "execution_count": 16,
   "metadata": {},
   "outputs": [
    {
     "name": "stderr",
     "output_type": "stream",
     "text": [
      "c:\\Users\\patil\\OneDrive\\Desktop\\Palmapi\\langchain\\venv\\lib\\site-packages\\huggingface_hub\\utils\\_deprecation.py:127: FutureWarning: '__init__' (from 'huggingface_hub.inference_api') is deprecated and will be removed from version '1.0'. `InferenceApi` client is deprecated in favor of the more feature-complete `InferenceClient`. Check out this guide to learn how to convert your script to use it: https://huggingface.co/docs/huggingface_hub/guides/inference#legacy-inferenceapi-client.\n",
      "  warnings.warn(warning_message, FutureWarning)\n"
     ]
    }
   ],
   "source": [
    "from langchain.llms import HuggingFaceHub\n",
    "llmhf=HuggingFaceHub(repo_id=\"google/switch-c-2048\",model_kwargs={\"temperature\":1,\"max_length\":500})"
   ]
  },
  {
   "cell_type": "code",
   "execution_count": 17,
   "metadata": {},
   "outputs": [],
   "source": [
    "\n",
    "template = \"\"\"Question: 8 career opportunities best suitable for {pt} personality type ,  \n",
    "            - career description\n",
    "            - Degree/qualification required after 12th \n",
    "            - major subjects\n",
    "            - skills required \n",
    "            (for each career in bullet points)\n",
    "\n",
    "Answer: \n",
    " \"\"\"\n",
    "prompt = PromptTemplate(template=template, input_variables=[\"pt\"])"
   ]
  },
  {
   "cell_type": "code",
   "execution_count": 18,
   "metadata": {},
   "outputs": [],
   "source": [
    "llm_chain = LLMChain(prompt=prompt, llm=llm)\n",
    "llmhf_chain = LLMChain(prompt=prompt, llm=llmhf)"
   ]
  },
  {
   "cell_type": "code",
   "execution_count": 19,
   "metadata": {},
   "outputs": [
    {
     "name": "stdout",
     "output_type": "stream",
     "text": [
      "\n",
      "1. Data Analyst: \n",
      "- Career Description: A Data Analyst interprets and presents data from different sources, and use analytics for problem solving.\n",
      "- Degree/Qualification Required After 12th: Bachelor's degree in mathematics, computer science, information systems, economics, or other quantitative field.\n",
      "- Major Subjects: Mathematics, Computer Science, Information Systems, Economics,\n",
      "- Skills Required: Analytical Skills, Data Visualisation, Programming, Problem-solving skills, Attention to Detail. \n",
      "\n",
      "\n",
      "2. Social Media Manager:\n",
      "- Career Description: A Social Media Manager is responsible for managing a brand's presence by creating content, interacting with customers, and forming relationships with influencers.\n",
      "- Degree/Qualification Required After 12th: Bachelor's degree in communications, marketing, business, public relations, or a related field.\n",
      "- Major Subjects: Communications, Marketing, Business, Public Relations\n",
      "- Skills Required: Social Media Knowledge, Digital/Creative Writing, Presentation Skills, Social Media Marketing, Graphic Design. \n",
      "\n",
      "\n",
      "3. Psychologist: \n",
      "- Career Description: A Psychologist studies and understands behaviour and mental processes, through scientific research and the evaluation of individuals.\n",
      "- Degree/Qualification Required after 12th: A Doctorate in Psychology or a related field. \n",
      "- Major Subjects: Psychology, Biology, Human Behavior, Social Sciences, Statistics\n",
      "- Skills Required: Critical Thinking, Problem-solving, Counseling, Communication, Research Analysis. \n",
      "\n",
      "\n",
      "4. Business Intelligence Analyst: \n",
      "- Career Description: A Business Intelligence Analyst is responsible for gathering and analyzing data, then providing insights and recommendations to help make business decisions.\n",
      "- Degree/Qualification Required After 12th: Bachelor's degree in computer science or a related field.\n",
      "- Major Subjects: Computer Science, Database Technologies, Mathematics, Statistics\n",
      "- Skills Required: Analytic Skills, Problem-solving, Database Management, Business Knowledge, International/Cultural Awareness. \n",
      "\n",
      "\n",
      "5. Accountant: \n",
      "- Career Description: An Accountant is responsible for recording and analyzing financial transactions for businesses and individuals.\n",
      "- Degree/Qualification Required after 12th: Bachelor's or Master's degree in accountancy, finance, or a related field.\n",
      "- Major Subjects: Accounting, Finance, Economics, Mathematics, Business\n",
      "- Skills Required: Analytical Skills, Attention to Detail, Financial Reporting, Data Entry, Communication. \n",
      "\n",
      "\n",
      "6. Market Research Analyst: \n",
      "- Career Description: A Market Research Analyst collects and interprets data to inform business decisions and identify potential market trends and opportunities.\n",
      "- Degree/Qualification Required after 12th: Bachelor's degree in marketing, mathematics, statistics, economics, or a related field.\n",
      "- Major Subjects: Mathematics, Statistics, Economics, Marketing, Computer Science\n",
      "- Skills Required: Analytical Skills, Data Visualization, Programming, Problem-solving Skills, Communication. \n",
      "\n",
      "\n",
      "7. Software Developer: \n",
      "- Career Description: Software Developers design and develop software applications, websites, and databases.\n",
      "- Degree/Qualification Required after 12th: Bachelor's degree in computer science or a related field. \n",
      "- Major Subjects: Computer Science, Mathematics, Physics, Programming, Software Engineering\n",
      "- Skills Required: Programming, System Design, Problem-solving, Software Development, Analytical Thinking. \n",
      "\n",
      "\n",
      "8. Human Resources Manager: \n",
      "- Career Description: A Human Resources Manager is responsible for recruiting and overseeing the hiring, training, and development of personnel in an organization.\n",
      "- Degree/Qualification Required after 12th: Bachelor's degree in human resources, business, or a related field.\n",
      "- Major Subjects: Business, Human Resources, Psychology, Communication, Organizational Behavior\n",
      "- Skills Required: Recruiting, Training, Interpersonal Skills, Leadership, Employee Relations.\n"
     ]
    }
   ],
   "source": [
    "pt = \"INTF\"\n",
    "\n",
    "print(llm_chain.run(pt))"
   ]
  }
 ],
 "metadata": {
  "kernelspec": {
   "display_name": "Python 3",
   "language": "python",
   "name": "python3"
  },
  "language_info": {
   "codemirror_mode": {
    "name": "ipython",
    "version": 3
   },
   "file_extension": ".py",
   "mimetype": "text/x-python",
   "name": "python",
   "nbconvert_exporter": "python",
   "pygments_lexer": "ipython3",
   "version": "3.9.0"
  }
 },
 "nbformat": 4,
 "nbformat_minor": 2
}
